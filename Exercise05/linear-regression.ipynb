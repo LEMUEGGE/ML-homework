{
 "cells": [
  {
   "cell_type": "code",
   "execution_count": 128,
   "metadata": {
    "collapsed": true
   },
   "outputs": [],
   "source": [
    "import numpy as np\n",
    "import bisect\n",
    "from scipy.spatial import distance\n",
    "from scipy.sparse import coo_matrix, csc_matrix\n",
    "from scipy.sparse.linalg import lsqr\n",
    "import matplotlib.pyplot as plt"
   ]
  },
  {
   "cell_type": "code",
   "execution_count": 232,
   "metadata": {},
   "outputs": [],
   "source": [
    "def construct_X(M,alphas,Np=None):\n",
    "    \"\"\" Calculates the weight matrix for a given tomogram size M x M, X-rays under angles alpha and sensor resolution Np\n",
    "    \n",
    "    Parameters:\n",
    "    -----------\n",
    "    Number of pixel of square tomogram: M (Int)\n",
    "    List of angles under which CT is performed: alphas (List of Int)\n",
    "    Resolution of CCD sensor (optional): Np (Int)\n",
    "    \n",
    "    \n",
    "    If Np = None, Np is set as ceiling(sqrt(2)*M)\n",
    "    \n",
    "    Returns:\n",
    "    Np * len(alphas) x M*M matrix with weights of the pixels\n",
    "    \"\"\"\n",
    "    if Np == None: Np = np.ceil(np.sqrt(2)*M)\n",
    "    a0 = -M/2 + 0.5\n",
    "    b0 = -M/2 + 0.5\n",
    "    C = np.mgrid[a0:M+a0,b0:M+b0]\n",
    "  \n",
    "    C = C.reshape(2,M*M) # array of (a,b) vectors that belong to the centers of the bins\n",
    "    \n",
    "    \n",
    "    n = np.array([0,1]) # unrotated unit vector\n",
    "    \n",
    "    #project tomogram pixel on sensor\n",
    "    alphas = np.array(alphas)/360 * 2 * np.pi \n",
    "    def rot(a):\n",
    "        return np.array([[np.cos(a),-np.sin(a)],[np.sin(a),np.cos(a)]])\n",
    "    p = np.dot(np.array([np.dot(rot(i),n)for i in alphas]),C).flatten() # vectorized for all alphas at the same time\n",
    "\n",
    "    # calculate differences and use boolean slicing to get rid of pixels that do not count\n",
    "    sensor = np.arange(-Np/2+0.5,Np/2+0.5,1) # sensor bin center coordinates\n",
    "   \n",
    "    \n",
    "    d = np.abs(distance.cdist(sensor.reshape(sensor.shape[0],1),p.reshape(p.shape[0],1)))\n",
    "    \n",
    "    d = np.concatenate(np.hsplit(d,len(alphas)),axis=0) # transform matrix from Np x len (alpha)* M*M to Np*len(alpha) x M*M \n",
    "    idx = np.where(d<1) # select relevant elements, i.e. where distance of projected tomograph pixels to sensor pixels smaller 1\n",
    "\n",
    "    X = coo_matrix(((1-d[idx]),idx),shape=(int(Np*len(alphas)),M*M),dtype=np.float32) # save relevant weigths in array. Triangular shape of resulting signal \n",
    "                                                                                    # is achieved by 1 - d\n",
    "    return X"
   ]
  },
  {
   "cell_type": "code",
   "execution_count": 236,
   "metadata": {},
   "outputs": [
    {
     "data": {
      "image/png": "[encoded data removed]",
      "text/plain": [
       "<matplotlib.figure.Figure at 0x7f199a2617f0>"
      ]
     },
     "metadata": {},
     "output_type": "display_data"
    },
    {
     "data": {
      "image/png": "[encoded data removed]",
      "text/plain": [
       "<matplotlib.figure.Figure at 0x7f199a485828>"
      ]
     },
     "metadata": {},
     "output_type": "display_data"
    }
   ],
   "source": [
    "X = construct_X(10,[-33,1,42])\n",
    "#X = construct_X(2,[0])\n",
    "#X = construct_X(2,[0,90])\n",
    "plt.imshow(X.toarray())\n",
    "X_test = np.load('./hs_tomography/X_example.npy')\n",
    "plt.show()\n",
    "plt.imshow(X_test)\n",
    "plt.show()\n"
   ]
  },
  {
   "cell_type": "code",
   "execution_count": 239,
   "metadata": {},
   "outputs": [],
   "source": [
    "alphas = np.load('./hs_tomography/alphas_77.npy')\n",
    "X_77 = construct_X(77,alphas,109)"
   ]
  },
  {
   "cell_type": "code",
   "execution_count": null,
   "metadata": {
    "collapsed": true
   },
   "outputs": [],
   "source": []
  }
 ],
 "metadata": {
  "kernelspec": {
   "display_name": "Python 3",
   "language": "python",
   "name": "python3"
  },
  "language_info": {
   "codemirror_mode": {
    "name": "ipython",
    "version": 3
   },
   "file_extension": ".py",
   "mimetype": "text/x-python",
   "name": "python",
   "nbconvert_exporter": "python",
   "pygments_lexer": "ipython3",
   "version": "3.6.3"
  }
 },
 "nbformat": 4,
 "nbformat_minor": 2
}
