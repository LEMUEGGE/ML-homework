{
 "cells": [
  {
   "cell_type": "code",
   "execution_count": 267,
   "metadata": {},
   "outputs": [],
   "source": [
    "import numpy as np\n",
    "import sklearn\n",
    "import matplotlib.pyplot as plt\n",
    "from sklearn.datasets import load_digits\n",
    "from sklearn import cross_validation\n",
    "from sklearn.neighbors import KNeighborsClassifier"
   ]
  },
  {
   "cell_type": "code",
   "execution_count": 2,
   "metadata": {},
   "outputs": [
    {
     "name": "stdout",
     "output_type": "stream",
     "text": [
      "dict_keys(['data', 'target', 'target_names', 'images', 'DESCR'])\n"
     ]
    }
   ],
   "source": [
    "\n",
    "digits = load_digits()\n",
    "\n",
    "print(digits.keys())\n",
    "\n",
    "data = digits[\"data\"] #flattened version of images\n",
    "images = digits[\"images\"] # images in array form; each image is of shape (8,8)\n",
    "target = digits[\"target\"] # indices of target_names array belonging to test data (1797)\n",
    "target_names = digits[\"target_names\"] # numbers 0 to 9\n",
    "\n"
   ]
  },
  {
   "cell_type": "code",
   "execution_count": 3,
   "metadata": {},
   "outputs": [
    {
     "name": "stdout",
     "output_type": "stream",
     "text": [
      "(8, 8)\n"
     ]
    },
    {
     "data": {
      "image/png": "[encoded data removed]",
      "text/plain": [
       "<matplotlib.figure.Figure at 0x7f9ccdb96518>"
      ]
     },
     "metadata": {},
     "output_type": "display_data"
    }
   ],
   "source": [
    "%matplotlib inline\n",
    "img = images[(np.where(target == 3)[0][0])]\n",
    "print(img.shape)\n",
    "plt.figure()\n",
    "plt.gray()\n",
    "plt.imshow(img,interpolation=\"nearest\");\n",
    "#print(np.size(np.where(target == 4)[0][0]))\n",
    "#print(np.where(target == 4))"
   ]
  },
  {
   "cell_type": "code",
   "execution_count": 4,
   "metadata": {
    "collapsed": true
   },
   "outputs": [],
   "source": [
    "def dist_loop(training,test):\n",
    "    \"\"\" Naive distance function; loops over each pixel and calculates nearest neighbor\n",
    "        training: (N,D) matrix. N number of training data, D number of pixels\n",
    "        test: (M,D) matrix. M number of test data, D number of pixels\n",
    "        \n",
    "        returns (N,M) distance matrix\n",
    "    \"\"\"\n",
    "    N,D = training.shape\n",
    "    M = test.shape[0]\n",
    "    dist_matrix = np.empty(shape=(N,M))\n",
    "    for i in np.arange(0,N):\n",
    "        for j in np.arange(0,M):\n",
    "            eucl_sum = 0\n",
    "            for k in np.arange(0,D):\n",
    "                eucl_sum += np.square(training[i,k]-test[j,k]) # veeeery slow, alternatively use np.sum and skip loop over D\n",
    "            dist_matrix[i,j] = np.sqrt(eucl_sum)\n",
    "    return dist_matrix\n",
    "\n",
    "\n",
    "def dist_loop2(training,test):\n",
    "    \"\"\"Naive distance function; loops over each pixel and calculates nearest neighbor\n",
    "        training: (N,D) matrix. N number of training data, D number of pixels\n",
    "        test: (M,D) matrix. M number of test data\n",
    "        \n",
    "        returns (N,M) distance matrix\n",
    "    \"\"\"\n",
    "    #Ns, Ms = np.meshgrid(training,test)\n",
    "    N = training.shape[0]\n",
    "    M = test.shape[0]\n",
    "    dist_matrix = np.empty(shape=(N,M))\n",
    "    for i in np.arange(0,N):\n",
    "        for j in np.arange(0,M):\n",
    "            dist_matrix[i,j] = np.sqrt(np.sum(np.square(training[i,:]-test[j,:]))) # still slow\n",
    "    return dist_matrix\n",
    "\n",
    "def dist_vec(training,test):\n",
    "    \"\"\"Fast, vectorized implementation of nearest neighbor classifier\n",
    "        training: (N,D) numpy array. N number of training data, D number of pixels\n",
    "        test: (M,D) numpy array. M number of test data, D number of pixels\n",
    "        \n",
    "        FAAAAAST!!!\n",
    "        \n",
    "        returns (N,M) distance matrix\n",
    "    \"\"\"\n",
    "    Ns, Ms = np.meshgrid(np.arange(0,training.shape[0]),np.arange(0,test.shape[0]))\n",
    "    dist_matrix = np.sqrt(np.sum(np.square(training[Ns,:]-test[Ms,:]),axis=2))\n",
    "    return np.transpose(dist_matrix)\n",
    "\n",
    "\n",
    "def k_Nearest_Neighbor_Classifier(X_train,Y_train, X_test,k):\n",
    "    \"\"\"k Nearest neighbour classifier\n",
    "        \n",
    "        VARIABLES\n",
    "        X_train: features of training data\n",
    "        Y_train: instances of training data\n",
    "        X_test: features of test data\n",
    "        \n",
    "        PARAMETER\n",
    "        k: number of neighbors to be taken into account\n",
    "        \n",
    "        \n",
    "        RELIES ON dist_vec function!!\n",
    "        ----------------\n",
    "    \"\"\"\n",
    "    distance_matrix = dist_vec(X_train,X_test)\n",
    "    indices = np.argpartition(distance_matrix,kth=k,axis=0)[:k,:] #find k nearest neighbours (column mimima) of distance matrix\n",
    "    k_neighbors = Y_train[indices] #assign corresponding training instances to each test point\n",
    "    test_instance_histo = [np.bincount(k_neighbors[:,i],minlength=10) for i in np.arange(0,len(k_neighbors[0,:]))]\n",
    "    test_instance = np.argmax(test_instance_histo,axis=1)\n",
    "    #print(test_instance.shape)\n",
    "    #print(np.argmax(test_instance,axis=1))\n",
    "    return test_instance"
   ]
  },
  {
   "cell_type": "code",
   "execution_count": 5,
   "metadata": {},
   "outputs": [
    {
     "name": "stdout",
     "output_type": "stream",
     "text": [
      "4.94 s ± 66.8 ms per loop (mean ± std. dev. of 7 runs, 1 loop each)\n",
      "380 ms ± 66 ms per loop (mean ± std. dev. of 7 runs, 1 loop each)\n"
     ]
    }
   ],
   "source": [
    "X_all = data\n",
    "Y_all = target\n",
    "\n",
    "X_train, X_test, Y_train, Y_test = cross_validation.train_test_split(digits.data,digits.target,test_size=0.4,random_state=0)\n",
    "\n",
    "#%timeit dist_loop(X_train,X_test)\n",
    "%timeit dist_loop2(X_train,X_test)\n",
    "%timeit dist_vec(X_train,X_test)"
   ]
  },
  {
   "cell_type": "code",
   "execution_count": 14,
   "metadata": {},
   "outputs": [
    {
     "name": "stdout",
     "output_type": "stream",
     "text": [
      "Deviations of the distance matrices returned from both implementations: 0\n"
     ]
    }
   ],
   "source": [
    "print(\"Deviations of the distance matrices returned from both implementations:\", np.sum(dist_loop2(X_train,X_test)!=dist_vec(X_train,X_test)))"
   ]
  },
  {
   "cell_type": "code",
   "execution_count": 69,
   "metadata": {
    "collapsed": true
   },
   "outputs": [],
   "source": []
  },
  {
   "cell_type": "code",
   "execution_count": 6,
   "metadata": {
    "collapsed": true
   },
   "outputs": [],
   "source": [
    "def filter_numbers(number1,number2):\n",
    "    \"\"\"Returns subset of digits sample data containing only the numbers passed to the function\n",
    "        \n",
    "       Takes number1 and number2 of the target_names as its arguments\n",
    "       Returns two arrays: data, target\n",
    "    \"\"\"\n",
    "    #if number1 and number2:\n",
    "    if True:\n",
    "        indices = np.where((digits['target'] == number1) | (digits['target'] == number2))\n",
    "        #print(indices)\n",
    "        data = (digits['data'])[indices]\n",
    "        target = (digits['target'])[indices]\n",
    "        #print(indices)\n",
    "    return data, target"
   ]
  },
  {
   "cell_type": "code",
   "execution_count": 7,
   "metadata": {},
   "outputs": [
    {
     "name": "stdout",
     "output_type": "stream",
     "text": [
      "Subset numbers 1 and 3\n",
      "Error of K nearest neighbor classifier: 0.00000\n",
      "Subset numbers 3 and 9\n",
      "Error of K nearest neighbor classifier: 0.01370\n"
     ]
    }
   ],
   "source": [
    "## Numbers 1 and 3\n",
    "print(\"Subset numbers 1 and 3\")\n",
    "data_1_3, target_1_3 = filter_numbers(1,3)\n",
    "X_train, X_test, Y_train, Y_test = cross_validation.train_test_split(data_1_3,target_1_3,test_size=0.4)\n",
    "Y_test_estimate = k_Nearest_Neighbor_Classifier(X_train,Y_train,X_test,1)\n",
    "\n",
    "print(\"Error of K nearest neighbor classifier: %.5f\" % (1 - np.sum(Y_test==Y_test_estimate)/len(Y_test)))\n",
    "\n",
    "\n",
    "## Numbers 3 and 9\n",
    "print(\"Subset numbers 3 and 9\")\n",
    "data_3_9, target_3_9 = filter_numbers(3,9)\n",
    "X_train, X_test, Y_train, Y_test = cross_validation.train_test_split(data_3_9,target_3_9,test_size=0.4)\n",
    "Y_test_estimate = k_Nearest_Neighbor_Classifier(X_train,Y_train,X_test,1)\n",
    "\n",
    "print(\"Error of K nearest neighbor classifier: %.5f\" % (1 - np.sum(Y_test==Y_test_estimate)/len(Y_test)))\n",
    "\n",
    "\n",
    "## what is standard deviation?"
   ]
  },
  {
   "cell_type": "markdown",
   "metadata": {},
   "source": [
    "In the following we investigate the dependency of the error of recoginizing 3's and 9's for k nearest neighbors with k in {1,3,5,9,17,33}. We average over N times to account for \"good\" and \"bad\" sampling of training sets."
   ]
  },
  {
   "cell_type": "code",
   "execution_count": 23,
   "metadata": {},
   "outputs": [
    {
     "data": {
      "text/plain": [
       "<Container object of 3 artists>"
      ]
     },
     "execution_count": 23,
     "metadata": {},
     "output_type": "execute_result"
    },
    {
     "data": {
      "image/png": "[encoded data removed]",
      "text/plain": [
       "<matplotlib.figure.Figure at 0x7f9cc5b325f8>"
      ]
     },
     "metadata": {},
     "output_type": "display_data"
    }
   ],
   "source": [
    "k = [1,3,5,9,17,33]\n",
    "data_3_9, target_3_9 = filter_numbers(3,9)\n",
    "N = 100\n",
    "error_k = np.empty((len(k),N))\n",
    "\n",
    "for j in np.arange(0,N): \n",
    "    X_train, X_test, Y_train, Y_test = cross_validation.train_test_split(data_3_9,target_3_9,test_size=0.4)\n",
    "    for index, i in enumerate(k):\n",
    "        Y_test_estimate = k_Nearest_Neighbor_Classifier(X_train,Y_train,X_test,i)\n",
    "        error_k[index,j] = (1 - np.sum(Y_test==Y_test_estimate)/len(Y_test))\n",
    "plt.errorbar(k,np.mean(error_k,axis=1),yerr=np.std(error_k,axis=1))\n"
   ]
  },
  {
   "cell_type": "code",
   "execution_count": 279,
   "metadata": {},
   "outputs": [],
   "source": [
    "### split array in chunks of equal size\n",
    "\n",
    "def chunks(l, n):\n",
    "    \"\"\"Yield succesive n chunks from l. \n",
    "    \n",
    "    Generator function\n",
    "    \"\"\"\n",
    "    for i in np.linspace(0, (len(l)-int(round(len(l)/n))), n,dtype=int):\n",
    "        yield l[i:(i + int(round(len(l)/n)))]\n",
    "        \n",
    "def cross_validation(feature,instance,n):\n",
    "    \"\"\"Yield succesive n training and test sets by permutating and reassembling of the n chunks of features and instances\n",
    "    \n",
    "        Generator function\n",
    "    \"\"\"\n",
    "    chunked_data, chunked_target = np.asarray([a for a in chunks(feature,n)]), np.asarray([a for a in chunks(instance,n)]) # list of arrays\n",
    "    \n",
    "    for i in np.arange(0,n):\n",
    "        x_complement =  np.delete(chunked_data, i,axis=0)\n",
    "        #print(x_complement[0].shape)\n",
    "        #x_test = x_complement.reshape(-1,x_complement.shape[-1])\n",
    "        x_test = np.concatenate([j for j in x_complement])\n",
    "        #print(x_test.shape)\n",
    "        y_complement =  np.delete(chunked_target, i, axis=0)\n",
    "        #y_test = y_complement.reshape(y_complement.shape[0]*y_complement.shape[1],)\n",
    "        #print(y_complement.shape)\n",
    "        y_test = y_complement.flatten()\n",
    "        x_training = chunked_data[i]\n",
    "        y_training = chunked_target[i]\n",
    "        yield x_training, y_training, x_test, y_test\n",
    "    \n",
    "    "
   ]
  },
  {
   "cell_type": "code",
   "execution_count": 286,
   "metadata": {},
   "outputs": [
    {
     "name": "stdout",
     "output_type": "stream",
     "text": [
      "n = 2 subparts:\n",
      "average error own implementation: 0.048 +- 0.003\n",
      "average error scikit implementation: 0.048 +- 0.003\n",
      "n = 5 subparts:\n",
      "average error own implementation: 0.092 +- 0.006\n",
      "average error scikit implementation: 0.092 +- 0.006\n",
      "n = 10 subparts:\n",
      "average error own implementation: 0.145 +- 0.026\n",
      "average error scikit implementation: 0.145 +- 0.026\n"
     ]
    }
   ],
   "source": [
    "data, target = digits['data'], digits['target']\n",
    "N = [2,5,10]\n",
    "k= 5\n",
    "for n in N:\n",
    "    error_1 = np.empty(n) ##own implementation\n",
    "    error_2 = np.empty(n) ## scikit learn\n",
    "    \n",
    "    for index, (x_training,y_training,x_test,y_test) in enumerate(cross_validation(data[1:],target[1:],n)):\n",
    "    # enumerate cross_validation operator and save error of prediction to the 2 arrays\n",
    "        scikit = KNeighborsClassifier(n_neighbors=k)\n",
    "        y_estimates = k_Nearest_Neighbor_Classifier(x_training,y_training,x_test,k)\n",
    "        error_1[index] = 1 - np.sum(y_test==y_estimates)/len(y_test)\n",
    "\n",
    "        scikit.fit(x_training,y_training)\n",
    "        y_estimates_scikit = scikit.predict(x_test)\n",
    "        error_2[index] = 1 - np.sum(y_test==y_estimates_scikit)/len(y_test)\n",
    "    print(\"n = %d subparts:\" % n)\n",
    "    print(\"average error own implementation: %.3f +- %.3f\" % (np.mean(error_1),np.std(error_1)))\n",
    "    print(\"average error scikit implementation: %.3f +- %.3f\" % (np.mean(error_2),np.std(error_2)))"
   ]
  },
  {
   "cell_type": "code",
   "execution_count": 273,
   "metadata": {},
   "outputs": [
    {
     "data": {
      "text/plain": [
       "array([ 0.0954039 ,  0.08356546,  0.09679666,  0.09888579,  0.0856546 ])"
      ]
     },
     "execution_count": 273,
     "metadata": {},
     "output_type": "execute_result"
    }
   ],
   "source": [
    "error_1"
   ]
  },
  {
   "cell_type": "code",
   "execution_count": 98,
   "metadata": {},
   "outputs": [
    {
     "data": {
      "text/plain": [
       "array([[1, 2],\n",
       "       [3, 4]])"
      ]
     },
     "execution_count": 98,
     "metadata": {},
     "output_type": "execute_result"
    }
   ],
   "source": [
    "a = a.reshape(-1,a.shape[1])\n",
    "a"
   ]
  },
  {
   "cell_type": "code",
   "execution_count": 108,
   "metadata": {},
   "outputs": [],
   "source": [
    "o = chunked_data.reshape(-1,chunked_data.shape[-1])"
   ]
  },
  {
   "cell_type": "code",
   "execution_count": 109,
   "metadata": {},
   "outputs": [
    {
     "data": {
      "text/plain": [
       "(365, 64)"
      ]
     },
     "execution_count": 109,
     "metadata": {},
     "output_type": "execute_result"
    }
   ],
   "source": [
    "o.shape"
   ]
  },
  {
   "cell_type": "code",
   "execution_count": null,
   "metadata": {
    "collapsed": true
   },
   "outputs": [],
   "source": []
  }
 ],
 "metadata": {
  "kernelspec": {
   "display_name": "Python 3",
   "language": "python",
   "name": "python3"
  },
  "language_info": {
   "codemirror_mode": {
    "name": "ipython",
    "version": 3
   },
   "file_extension": ".py",
   "mimetype": "text/x-python",
   "name": "python",
   "nbconvert_exporter": "python",
   "pygments_lexer": "ipython3",
   "version": "3.6.3"
  }
 },
 "nbformat": 4,
 "nbformat_minor": 2
}
