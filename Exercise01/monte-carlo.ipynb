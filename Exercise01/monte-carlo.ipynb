{
 "cells": [
  {
   "cell_type": "markdown",
   "metadata": {},
   "source": [
    "## Monte-Carlo Simulation\n",
    "\n"
   ]
  },
  {
   "cell_type": "code",
   "execution_count": 2,
   "metadata": {
    "collapsed": true
   },
   "outputs": [],
   "source": [
    "import numpy as np\n",
    "import sklearn\n",
    "import matplotlib.pyplot as plt"
   ]
  },
  {
   "cell_type": "markdown",
   "metadata": {},
   "source": [
    "## 1.1\n",
    "We implement a function create_data that takes the number of feature / instance pairs that we would like to sample as an argument. Using the inverse function of the cumulative probability distribution of p(X|Y=0), p(X|Y=1), respectively, we draw feautures that follow the given probability densities. In a first step, we draw the instances from the set {0,1} and then, depending on the value use the corresponding cum. PDF.\n",
    "Note that the if / else statement is added for exercise 1.3 where we which to sample explicitly an instance of each class"
   ]
  },
  {
   "cell_type": "code",
   "execution_count": 3,
   "metadata": {
    "collapsed": true
   },
   "outputs": [],
   "source": [
    "def create_data(N):\n",
    "    feature = np.empty(shape=N)\n",
    "    unif_cum_prob = np.random.uniform(0.0,1.0,size=N) # generate N observations of cumulative probability\n",
    "    if(N!=2):\n",
    "        instance = np.random.randint(2,size=N) # generate N random unsigned ints between 0 and 2-1\n",
    "    else:\n",
    "        instance = np.array([1,0]) # to implement nearest neighbour algorithm where one instance of both classes is needed\n",
    "    ind_y_one = np.where(instance == 1)\n",
    "    ind_y_zero = np.where(instance == 0)\n",
    "    feature[ind_y_one] = np.sqrt(unif_cum_prob[ind_y_one])\n",
    "    feature[ind_y_zero] = -np.sqrt(1-unif_cum_prob[ind_y_zero])+1\n",
    "    return feature, instance"
   ]
  },
  {
   "cell_type": "code",
   "execution_count": 4,
   "metadata": {},
   "outputs": [
    {
     "data": {
      "image/png": "[encoded data removed]",
      "text/plain": [
       "<matplotlib.figure.Figure at 0x7f9daaf34f28>"
      ]
     },
     "metadata": {},
     "output_type": "display_data"
    },
    {
     "data": {
      "image/png": "[encoded data removed]",
      "text/plain": [
       "<matplotlib.figure.Figure at 0x7f9da2e07780>"
      ]
     },
     "metadata": {},
     "output_type": "display_data"
    }
   ],
   "source": [
    "%matplotlib inline\n",
    "N = 10**4\n",
    "x,y = create_data(N) # generate test set\n",
    "plt.hist(x[np.where(y==0)],bins=20);\n",
    "plt.title('~P(X|Y=0)')\n",
    "plt.show()\n",
    "plt.hist(x[np.where(y==1)],bins=20);\n",
    "plt.title('~P(X|Y=1)')\n",
    "plt.show()"
   ]
  },
  {
   "cell_type": "markdown",
   "metadata": {},
   "source": [
    "Above histograms show that the sampling function is doing a good job. Deviation from the theoretical PDF will be a result of the binning and the relatively small number of drawn samples\n",
    "\n",
    "## 1.2"
   ]
  },
  {
   "cell_type": "code",
   "execution_count": 5,
   "metadata": {
    "collapsed": true
   },
   "outputs": [],
   "source": [
    "def rule_A(feature,t):\n",
    "    return [(feature>t)]\n",
    "\n",
    "def rule_B(feature,t):\n",
    "    return [(feature<t)]\n",
    "\n",
    "def p_error(rule,t,N):\n",
    "    x,y = create_data(N)\n",
    "    \n",
    "    error = [1 - np.sum([y==rule(x,i)])/N for i in t]\n",
    "    return error"
   ]
  },
  {
   "cell_type": "code",
   "execution_count": 42,
   "metadata": {},
   "outputs": [
    {
     "name": "stdout",
     "output_type": "stream",
     "text": [
      "_____M = 10_____\n",
      "Rule A [t = 0.200] [error_exp] [error_exp_std] [error_theo]: 0.270 0.15620 0.340\n",
      "Rule B [t = 0.200] [error_exp] [error_exp_std] [error_theo]: 0.690 0.20224 0.660\n",
      "Rule A [t = 0.500] [error_exp] [error_exp_std] [error_theo]: 0.210 0.12042 0.250\n",
      "Rule B [t = 0.500] [error_exp] [error_exp_std] [error_theo]: 0.840 0.14866 0.750\n",
      "Rule A [t = 0.600] [error_exp] [error_exp_std] [error_theo]: 0.260 0.10770 0.260\n",
      "Rule B [t = 0.600] [error_exp] [error_exp_std] [error_theo]: 0.790 0.12000 0.740\n",
      "_____M = 100_____\n",
      "Rule A [t = 0.200] [error_exp] [error_exp_std] [error_theo]: 0.359 0.04148 0.340\n",
      "Rule B [t = 0.200] [error_exp] [error_exp_std] [error_theo]: 0.688 0.04859 0.660\n",
      "Rule A [t = 0.500] [error_exp] [error_exp_std] [error_theo]: 0.260 0.04080 0.250\n",
      "Rule B [t = 0.500] [error_exp] [error_exp_std] [error_theo]: 0.746 0.02468 0.750\n",
      "Rule A [t = 0.600] [error_exp] [error_exp_std] [error_theo]: 0.258 0.04482 0.260\n",
      "Rule B [t = 0.600] [error_exp] [error_exp_std] [error_theo]: 0.745 0.02872 0.740\n",
      "_____M = 1000_____\n",
      "Rule A [t = 0.200] [error_exp] [error_exp_std] [error_theo]: 0.344 0.00765 0.340\n",
      "Rule B [t = 0.200] [error_exp] [error_exp_std] [error_theo]: 0.652 0.01220 0.660\n",
      "Rule A [t = 0.500] [error_exp] [error_exp_std] [error_theo]: 0.256 0.01128 0.250\n",
      "Rule B [t = 0.500] [error_exp] [error_exp_std] [error_theo]: 0.746 0.01368 0.750\n",
      "Rule A [t = 0.600] [error_exp] [error_exp_std] [error_theo]: 0.259 0.01606 0.260\n",
      "Rule B [t = 0.600] [error_exp] [error_exp_std] [error_theo]: 0.735 0.01136 0.740\n",
      "_____M = 10000_____\n",
      "Rule A [t = 0.200] [error_exp] [error_exp_std] [error_theo]: 0.337 0.00344 0.340\n",
      "Rule B [t = 0.200] [error_exp] [error_exp_std] [error_theo]: 0.663 0.00577 0.660\n",
      "Rule A [t = 0.500] [error_exp] [error_exp_std] [error_theo]: 0.252 0.00249 0.250\n",
      "Rule B [t = 0.500] [error_exp] [error_exp_std] [error_theo]: 0.750 0.00394 0.750\n",
      "Rule A [t = 0.600] [error_exp] [error_exp_std] [error_theo]: 0.261 0.00400 0.260\n",
      "Rule B [t = 0.600] [error_exp] [error_exp_std] [error_theo]: 0.739 0.00360 0.740\n"
     ]
    }
   ],
   "source": [
    "\n",
    "t = np.array([0.2,0.5,0.6])\n",
    "M = [10,100,1000,10000]\n",
    "plot_std_A_B = np.zeros((4,2))\n",
    "for i, N in enumerate(M):\n",
    "    print(\"_____M = %d_____\" % N)\n",
    "    theo_error_ruleA = 0.25 + (t-0.5)**2\n",
    "    theo_error_ruleB = 0.75 - (t-0.5)**2\n",
    "    p_error_A = np.mean([p_error(rule_A,t,N) for i in np.arange(0,10)],axis=0)\n",
    "    p_error_A_std = np.std([p_error(rule_A,t,N) for i in np.arange(0,10)],axis=0)\n",
    "    p_error_B = np.mean([p_error(rule_B,t,N) for i in np.arange(0,10)],axis=0)\n",
    "    p_error_B_std = np.std([p_error(rule_B,t,N) for i in np.arange(0,10)],axis=0)\n",
    "    plot_std_A_B[i,:] = [p_error_A_std[1],p_error_B_std[1]]\n",
    "    for i in np.arange(0,3):\n",
    "        print(\"Rule A [t = %.3f] [error_exp] [error_exp_std] [error_theo]: %.3f %.5f %.3f\" % (t[i], p_error_A[i], p_error_A_std[i],theo_error_ruleA[i]))\n",
    "        print(\"Rule B [t = %.3f] [error_exp] [error_exp_std] [error_theo]: %.3f %.5f %.3f\" % (t[i], p_error_B[i], p_error_B_std[i],theo_error_ruleB[i]))"
   ]
  },
  {
   "cell_type": "code",
   "execution_count": 45,
   "metadata": {},
   "outputs": [
    {
     "data": {
      "image/png": "[encoded data removed]",
      "text/plain": [
       "<matplotlib.figure.Figure at 0x7f9da27d2668>"
      ]
     },
     "metadata": {},
     "output_type": "display_data"
    }
   ],
   "source": [
    "line1, = plt.plot(M,plot_std_A_B[:,0],label='Rule A')\n",
    "line2, = plt.plot(M,plot_std_A_B[:,1],label='Rule B')\n",
    "plt.legend(loc='best')\n",
    "plt.xlabel('test data size')\n",
    "plt.ylabel('standard deviation of error with t = 0.5')\n",
    "plt.yscale('log')\n",
    "plt.xscale('log')"
   ]
  },
  {
   "cell_type": "markdown",
   "metadata": {},
   "source": [
    "We see that the experimentally estimated error is in very good agreement to the theoretical error. A log log plot of the std deviation of the error versus the test size reveals that the functional dependency follows a power law\n",
    "\n",
    "## 1.3"
   ]
  },
  {
   "cell_type": "code",
   "execution_count": 47,
   "metadata": {
    "collapsed": true
   },
   "outputs": [],
   "source": [
    "def NN_class_1D(training_set,test_feature):\n",
    "    \"\"\" Nearest neighbour classifier\n",
    "    input is a (2,2) shaped array for the training data and a (N,) shaped array for the test_feature\n",
    "    the absolute distance between training and test features is stored in a vector fashion (2,test_size) matrix\n",
    "    and the idex of the training data class is stored in ind_instances. \n",
    "    The function returns then the corresponding classes\n",
    "    \"\"\"\n",
    "    ind_instances = np.argmin(np.abs(training_set[0].reshape(2,1) - test_feature),axis=0) #returns sequence of indixes of the set {0,1} that are corresponding to the classes stored in training_instance\n",
    "    return (training_set[1])[ind_instances]"
   ]
  },
  {
   "cell_type": "code",
   "execution_count": 50,
   "metadata": {
    "scrolled": true
   },
   "outputs": [
    {
     "name": "stdout",
     "output_type": "stream",
     "text": [
      "Average error: 0.3376089 +- 0.158137323456\n"
     ]
    }
   ],
   "source": [
    "n_total = 100 # number of cycles where training and test set are generated and error rate estimated\n",
    "test_size = 10**5 # size of test data\n",
    "error_array = np.empty(shape=n_total) # stores the estimated error of each cycle\n",
    "for i in np.arange(0,n_total):\n",
    "    test_data_x, test_data_y = create_data(test_size)\n",
    "    training_data = create_data(2)\n",
    "    estimated_instances = NN_class_1D(training_data,test_data_x)\n",
    "    error_array[i] = 1 - np.sum(estimated_instances == test_data_y)/test_size\n",
    "av_error = np.mean(error_array)\n",
    "av_error_std = np.std(error_array)\n",
    "print('Average error:',av_error, '+-',av_error_std)"
   ]
  },
  {
   "cell_type": "markdown",
   "metadata": {},
   "source": [
    "The estimated error is in good agreement with the theoretical value of 35%. Notice the high standard deviation."
   ]
  },
  {
   "cell_type": "code",
   "execution_count": null,
   "metadata": {
    "collapsed": true
   },
   "outputs": [],
   "source": []
  }
 ],
 "metadata": {
  "kernelspec": {
   "display_name": "Python 3",
   "language": "python",
   "name": "python3"
  },
  "language_info": {
   "codemirror_mode": {
    "name": "ipython",
    "version": 3
   },
   "file_extension": ".py",
   "mimetype": "text/x-python",
   "name": "python",
   "nbconvert_exporter": "python",
   "pygments_lexer": "ipython3",
   "version": "3.6.3"
  }
 },
 "nbformat": 4,
 "nbformat_minor": 2
}
