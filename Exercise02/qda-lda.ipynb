{
 "cells": [
  {
   "cell_type": "markdown",
   "metadata": {},
   "source": [
    "# 1. Data Preparation"
   ]
  },
  {
   "cell_type": "code",
   "execution_count": 135,
   "metadata": {
    "collapsed": false
   },
   "outputs": [],
   "source": [
    "import numpy as np\n",
    "import sklearn as sk\n",
    "import matplotlib.pyplot as plt\n",
    "from sklearn.datasets import load_digits\n",
    "%matplotlib inline\n",
    "pyplot.rcParams['figure.figsize'] = (10, 6)"
   ]
  },
  {
   "cell_type": "code",
   "execution_count": 136,
   "metadata": {
    "collapsed": false
   },
   "outputs": [
    {
     "name": "stdout",
     "output_type": "stream",
     "text": [
      "dict_keys(['data', 'target', 'target_names', 'images', 'DESCR'])\n"
     ]
    }
   ],
   "source": [
    "digits=load_digits()\n",
    "print(digits.keys())"
   ]
  },
  {
   "cell_type": "code",
   "execution_count": 137,
   "metadata": {
    "collapsed": true
   },
   "outputs": [],
   "source": [
    "data=digits['data']\n",
    "images=digits['images']\n",
    "target=digits['target']\n",
    "target_names=digits['target_names']"
   ]
  },
  {
   "cell_type": "code",
   "execution_count": 138,
   "metadata": {
    "collapsed": false
   },
   "outputs": [
    {
     "name": "stdout",
     "output_type": "stream",
     "text": [
      "(8, 8)\n"
     ]
    },
    {
     "data": {
      "image/png": "[encoded data removed]",
      "text/plain": [
       "<matplotlib.figure.Figure at 0x7f9920c610b8>"
      ]
     },
     "metadata": {},
     "output_type": "display_data"
    }
   ],
   "source": [
    "img = images[(np.where(target == 7)[0][0])]\n",
    "print(img.shape)\n",
    "plt.figure()\n",
    "plt.gray()\n",
    "plt.imshow(img,interpolation=\"nearest\");"
   ]
  },
  {
   "cell_type": "code",
   "execution_count": 139,
   "metadata": {
    "collapsed": true
   },
   "outputs": [],
   "source": [
    "def filter_numbers(number1,number2):\n",
    "    \"\"\"Returns subset of digits sample data containing only the numbers passed to the function\n",
    "        \n",
    "       Takes number1 and number2 of the target_names as its arguments\n",
    "       Returns two arrays: data, target\n",
    "    \"\"\"\n",
    "    #if number1 and number2:\n",
    "    if True:\n",
    "        indices = np.where((digits['target'] == number1) | (digits['target'] == number2))\n",
    "        #print(indices)\n",
    "        data = (digits['data'])[indices]\n",
    "        target = (digits['target'])[indices]\n",
    "        #print(indices)\n",
    "    return data, target"
   ]
  },
  {
   "cell_type": "code",
   "execution_count": 140,
   "metadata": {
    "collapsed": false
   },
   "outputs": [
    {
     "data": {
      "text/plain": [
       "(361, 64)"
      ]
     },
     "execution_count": 140,
     "metadata": {},
     "output_type": "execute_result"
    }
   ],
   "source": [
    "data17,target17=filter_numbers(1,7)\n",
    "np.shape(data17)"
   ]
  },
  {
   "cell_type": "markdown",
   "metadata": {},
   "source": [
    "Split data in train and test set"
   ]
  },
  {
   "cell_type": "code",
   "execution_count": 141,
   "metadata": {
    "collapsed": false
   },
   "outputs": [],
   "source": [
    "from sklearn.model_selection import train_test_split\n",
    "\n",
    "X_train, X_test, y_train, y_test = \\\n",
    "train_test_split(data17,target17, test_size=0.2)"
   ]
  },
  {
   "cell_type": "markdown",
   "metadata": {},
   "source": [
    "Plot the \"mean\" picture of both numbers.\n",
    "Pixel [19] is nearly black for number 7 and white for number 1.\n",
    "Also pixel [61] is black for number 7 and grey for number 1."
   ]
  },
  {
   "cell_type": "code",
   "execution_count": 142,
   "metadata": {
    "collapsed": false
   },
   "outputs": [],
   "source": [
    "def mean_plot(number):\n",
    "    img = np.mean([images[j] for j in range(len(images)) if target[j]==number], axis = 0)\n",
    "    return img\n",
    "\n",
    "def median_plot(number):\n",
    "    img = np.median([images[j] for j in range(len(images)) if target[j]==number], axis = 0)\n",
    "    return img"
   ]
  },
  {
   "cell_type": "code",
   "execution_count": 143,
   "metadata": {
    "collapsed": false
   },
   "outputs": [
    {
     "data": {
      "text/plain": [
       "Text(0.5,1,'median')"
      ]
     },
     "execution_count": 143,
     "metadata": {},
     "output_type": "execute_result"
    },
    {
     "data": {
      "image/png": "[encoded data removed]",
      "text/plain": [
       "<matplotlib.figure.Figure at 0x7f9921255860>"
      ]
     },
     "metadata": {},
     "output_type": "display_data"
    }
   ],
   "source": [
    "fig,ax=plt.subplots(1,2)\n",
    "plt.gray()\n",
    "ax[0].imshow(mean_plot(1))\n",
    "ax[0].set_title(\"mean\")\n",
    "ax[1].imshow(median_plot(1))\n",
    "ax[1].set_title(\"median\")"
   ]
  },
  {
   "cell_type": "code",
   "execution_count": 144,
   "metadata": {
    "collapsed": false
   },
   "outputs": [
    {
     "data": {
      "text/plain": [
       "Text(0.5,1,'median')"
      ]
     },
     "execution_count": 144,
     "metadata": {},
     "output_type": "execute_result"
    },
    {
     "data": {
      "image/png": "[encoded data removed]",
      "text/plain": [
       "<matplotlib.figure.Figure at 0x7f9920bdcdd8>"
      ]
     },
     "metadata": {},
     "output_type": "display_data"
    }
   ],
   "source": [
    "fig,ax=plt.subplots(1,2)\n",
    "plt.gray()\n",
    "ax[0].imshow(mean_plot(7))\n",
    "ax[0].set_title(\"mean\")\n",
    "ax[1].imshow(median_plot(7))\n",
    "ax[1].set_title(\"median\")"
   ]
  },
  {
   "cell_type": "code",
   "execution_count": 145,
   "metadata": {
    "collapsed": false
   },
   "outputs": [
    {
     "name": "stdout",
     "output_type": "stream",
     "text": [
      "Max difference mean:  10\n",
      "Min difference mean:  19\n",
      "Max difference median:  29\n",
      "Min difference median:  19\n"
     ]
    }
   ],
   "source": [
    "print(\"Max difference mean: \",np.argmax(mean_plot(7)-mean_plot(1)))\n",
    "print(\"Min difference mean: \",np.argmin(mean_plot(7)-mean_plot(1)))\n",
    "print(\"Max difference median: \",np.argmax(median_plot(7)-median_plot(1)))\n",
    "print(\"Min difference median: \",np.argmin(median_plot(7)-median_plot(1)))\n"
   ]
  },
  {
   "cell_type": "markdown",
   "metadata": {},
   "source": [
    "### Dimension Reduction"
   ]
  },
  {
   "cell_type": "code",
   "execution_count": 146,
   "metadata": {
    "collapsed": true
   },
   "outputs": [],
   "source": [
    "def reduced_dim(x):\n",
    "    res=np.empty([np.shape(x)[0],2])\n",
    "    for i in range(len(x)):\n",
    "        # Define the features here:\n",
    "        \n",
    "        res[i][0]=x[i][29]           # Feature 1\n",
    "        res[i][1]=x[i][19]           # Feature 2\n",
    "        \n",
    "    return res"
   ]
  },
  {
   "cell_type": "code",
   "execution_count": 147,
   "metadata": {
    "collapsed": false
   },
   "outputs": [
    {
     "data": {
      "text/plain": [
       "(288, 2)"
      ]
     },
     "execution_count": 147,
     "metadata": {},
     "output_type": "execute_result"
    }
   ],
   "source": [
    "reduced_x=reduced_dim(X_train)\n",
    "np.shape(reduced_x)"
   ]
  },
  {
   "cell_type": "code",
   "execution_count": 148,
   "metadata": {
    "collapsed": true
   },
   "outputs": [],
   "source": [
    "# To differentiate in the scatter plot between the two classes\n",
    "\n",
    "reduced1=[reduced_x[i] for i in range(len(reduced_x)) if target17[i]==1]\n",
    "reduced7=[reduced_x[i] for i in range(len(reduced_x)) if target17[i]==7]"
   ]
  },
  {
   "cell_type": "code",
   "execution_count": 149,
   "metadata": {
    "collapsed": false
   },
   "outputs": [
    {
     "data": {
      "text/plain": [
       "Text(0.5,1,'Dimension reduction - feature check')"
      ]
     },
     "execution_count": 149,
     "metadata": {},
     "output_type": "execute_result"
    },
    {
     "data": {
      "image/png": "[encoded data removed]",
      "text/plain": [
       "<matplotlib.figure.Figure at 0x7f9920bcb4e0>"
      ]
     },
     "metadata": {},
     "output_type": "display_data"
    }
   ],
   "source": [
    "x1=[reduced1[i][0]*10 for i in range(len(reduced1))]\n",
    "#x1=x1/np.max(x1)\n",
    "y1=[reduced1[i][1]*10 for i in range(len(reduced1))]\n",
    "#y1=y1/np.max(y1)\n",
    "x7=[reduced7[i][0]*10 for i in range(len(reduced7))]\n",
    "#x7=x7/np.max(x7)\n",
    "y7=[reduced7[i][1]*10 for i in range(len(reduced7))]\n",
    "#y7=y7/np.max(y7)\n",
    "plt.scatter(x1,y1,color='b',label='1')\n",
    "plt.scatter(x7,y7,color='g',label='7')\n",
    "\n",
    "legend = plt.legend(frameon = 1)\n",
    "frame = legend.get_frame()\n",
    "frame.set_color('grey')\n",
    "\n",
    "plt.xlabel(\"x-feature\")\n",
    "plt.ylabel('y-feature')\n",
    "plt.title('Dimension reduction - feature check')"
   ]
  },
  {
   "cell_type": "code",
   "execution_count": null,
   "metadata": {
    "collapsed": true
   },
   "outputs": [],
   "source": []
  },
  {
   "cell_type": "markdown",
   "metadata": {},
   "source": [
    "# 2. Nearest Mean"
   ]
  },
  {
   "cell_type": "code",
   "execution_count": 150,
   "metadata": {
    "collapsed": true
   },
   "outputs": [],
   "source": [
    "def nearest_mean(training_features, training_labels, test_features):\n",
    "    mean1=np.empty([2,1])\n",
    "    mean7=np.empty([2,1])\n",
    "    mean1=sum([training_features[i] for i in range(\\\n",
    "        len(training_features)) if training_labels[i]==1])\n",
    "    mean1=mean1/np.count_nonzero(training_labels==1)\n",
    "    mean7=sum([training_features[i] for i in range(\\\n",
    "        len(training_features)) if training_labels[i]==7])\n",
    "    mean7=mean7/np.count_nonzero(training_labels==7)\n",
    "    predicted_labels=np.empty([len(test_features),1])\n",
    "    for i in range(len(predicted_labels)):\n",
    "        dis1=np.linalg.norm(mean1-test_features[i])\n",
    "        dis2=np.linalg.norm(mean7-test_features[i])\n",
    "        if dis1 <= dis2:\n",
    "            predicted_labels[i]=1\n",
    "        else:\n",
    "            predicted_labels[i]=7\n",
    "    return predicted_labels"
   ]
  },
  {
   "cell_type": "code",
   "execution_count": 151,
   "metadata": {
    "collapsed": false
   },
   "outputs": [
    {
     "name": "stdout",
     "output_type": "stream",
     "text": [
      "Elements classified correctly:  36  (in Total:  288  elements.)\n"
     ]
    }
   ],
   "source": [
    "reduced_test=reduced_dim(X_test)\n",
    "predicted_labels=nearest_mean(reduced_x,y_train,reduced_test)\n",
    "counter=0\n",
    "for x,y in zip(predicted_labels,y_train):\n",
    "    if x==y:\n",
    "        counter+=1\n",
    "print(\"Elements classified correctly: \",counter,\" (in Total: \",len(y_train),\" elements.)\")"
   ]
  },
  {
   "cell_type": "code",
   "execution_count": 164,
   "metadata": {
    "collapsed": false
   },
   "outputs": [],
   "source": [
    "training_features=reduced_x\n",
    "training_labels=y_train\n",
    "\n",
    "data=np.meshgrid(np.arange(200),np.arange(200))\n",
    "mean1=np.empty([2,1])\n",
    "mean7=np.empty([2,1])\n",
    "mean1 = np.mean([training_features[j] for j in range(len\\\n",
    "        (training_features)) if training_labels[j]==1], axis = 0)\n",
    "\n",
    "mean7 = np.mean([training_features[j] for j in range(len\\\n",
    "        (training_features)) if training_labels[j]==7], axis = 0)\n",
    "\n",
    "\n",
    "#mean1=sum([training_features[i] for i in range(\\\n",
    "#        len(training_features)) if training_labels[i]==1])\n",
    "#mean1=mean1/np.count_nonzero(training_labels==1)\n",
    "#mean7=sum([training_features[i] for i in range(\\\n",
    "#        len(training_features)) if training_labels[i]==7])\n",
    "#mean7=mean7/np.count_nonzero(training_labels==7)\n",
    "   \n",
    "    \n",
    "a=0\n",
    "matrix=np.empty([200,200])\n",
    "for i in range(200):\n",
    "    for j in range(200):\n",
    "        i_=i/10\n",
    "        j_=j/10\n",
    "        dis1=np.linalg.norm(mean1-np.array([i_,j_]))\n",
    "        dis2=np.linalg.norm(mean7-np.array([i_,j_]))\n",
    "        if dis1>dis2:\n",
    "            a=0\n",
    "        else:\n",
    "            a=1\n",
    "        matrix[i,j]=a"
   ]
  },
  {
   "cell_type": "code",
   "execution_count": 165,
   "metadata": {
    "collapsed": false
   },
   "outputs": [
    {
     "data": {
      "text/plain": [
       "<matplotlib.legend.Legend at 0x7f992082bfd0>"
      ]
     },
     "execution_count": 165,
     "metadata": {},
     "output_type": "execute_result"
    },
    {
     "data": {
      "image/png": "[encoded data removed]",
      "text/plain": [
       "<matplotlib.figure.Figure at 0x7f99208565c0>"
      ]
     },
     "metadata": {},
     "output_type": "display_data"
    }
   ],
   "source": [
    "plt.matshow(matrix);\n",
    "plt.plot(mean1[0]*10,mean1[1]*10,'x',label=\"Mean 1\")\n",
    "plt.plot(mean7[0]*10,mean7[1]*10,'x',label=\"Mean 7\")\n",
    "\n",
    "plt.xlabel(\"Feature x\")\n",
    "plt.ylabel(\"Feature y\")\n",
    "plt.scatter(x1,y1,color='b',label='1')\n",
    "plt.scatter(x7,y7,color='g',label='7')\n",
    "plt.legend(loc=6)\n"
   ]
  },
  {
   "cell_type": "code",
   "execution_count": null,
   "metadata": {
    "collapsed": true
   },
   "outputs": [],
   "source": []
  }
 ],
 "metadata": {
  "kernelspec": {
   "display_name": "Python 3",
   "language": "python",
   "name": "python3"
  },
  "language_info": {
   "codemirror_mode": {
    "name": "ipython",
    "version": 3
   },
   "file_extension": ".py",
   "mimetype": "text/x-python",
   "name": "python",
   "nbconvert_exporter": "python",
   "pygments_lexer": "ipython3",
   "version": "3.6.2"
  }
 },
 "nbformat": 4,
 "nbformat_minor": 2
}
