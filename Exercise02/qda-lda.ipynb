{
 "cells": [
  {
   "cell_type": "markdown",
   "metadata": {},
   "source": [
    "# 1. Data Preparation"
   ]
  },
  {
   "cell_type": "code",
   "execution_count": 1,
   "metadata": {
    "collapsed": true
   },
   "outputs": [],
   "source": [
    "import numpy as np\n",
    "import sklearn as sk\n",
    "import matplotlib.pyplot as plt\n",
    "from sklearn.datasets import load_digits\n",
    "%matplotlib inline\n",
    "plt.rcParams['figure.figsize'] = (10, 6)"
   ]
  },
  {
   "cell_type": "code",
   "execution_count": 2,
   "metadata": {
    "collapsed": false
   },
   "outputs": [
    {
     "name": "stdout",
     "output_type": "stream",
     "text": [
      "dict_keys(['data', 'target', 'target_names', 'images', 'DESCR'])\n"
     ]
    }
   ],
   "source": [
    "digits=load_digits()\n",
    "print(digits.keys())"
   ]
  },
  {
   "cell_type": "code",
   "execution_count": 3,
   "metadata": {
    "collapsed": true
   },
   "outputs": [],
   "source": [
    "data=digits['data']\n",
    "images=digits['images']\n",
    "target=digits['target']\n",
    "target_names=digits['target_names']"
   ]
  },
  {
   "cell_type": "code",
   "execution_count": 4,
   "metadata": {
    "collapsed": false
   },
   "outputs": [
    {
     "name": "stdout",
     "output_type": "stream",
     "text": [
      "(8, 8)\n"
     ]
    },
    {
     "data": {
      "image/png": "[encoded data removed]",
      "text/plain": [
       "<matplotlib.figure.Figure at 0x7fcb0d99bf60>"
      ]
     },
     "metadata": {},
     "output_type": "display_data"
    }
   ],
   "source": [
    "img = images[(np.where(target == 7)[0][0])]\n",
    "print(img.shape)\n",
    "plt.figure()\n",
    "plt.gray()\n",
    "plt.imshow(img,interpolation=\"nearest\");"
   ]
  },
  {
   "cell_type": "code",
   "execution_count": 5,
   "metadata": {
    "collapsed": true
   },
   "outputs": [],
   "source": [
    "def filter_numbers(number1,number2):\n",
    "    \"\"\"Returns subset of digits sample data containing only the numbers passed to the function\n",
    "        \n",
    "       Takes number1 and number2 of the target_names as its arguments\n",
    "       Returns two arrays: data, target\n",
    "    \"\"\"\n",
    "    #if number1 and number2:\n",
    "    if True:\n",
    "        indices = np.where((digits['target'] == number1) | (digits['target'] == number2))\n",
    "        #print(indices)\n",
    "        data = (digits['data'])[indices]\n",
    "        target = (digits['target'])[indices]\n",
    "        #print(indices)\n",
    "    return data, target"
   ]
  },
  {
   "cell_type": "code",
   "execution_count": 6,
   "metadata": {
    "collapsed": false
   },
   "outputs": [
    {
     "data": {
      "text/plain": [
       "(361, 64)"
      ]
     },
     "execution_count": 6,
     "metadata": {},
     "output_type": "execute_result"
    }
   ],
   "source": [
    "data17,target17=filter_numbers(1,7)\n",
    "np.shape(data17)"
   ]
  },
  {
   "cell_type": "markdown",
   "metadata": {},
   "source": [
    "Split data in train and test set"
   ]
  },
  {
   "cell_type": "code",
   "execution_count": 7,
   "metadata": {
    "collapsed": true
   },
   "outputs": [],
   "source": [
    "from sklearn.model_selection import train_test_split\n",
    "\n",
    "X_train, X_test, y_train, y_test = \\\n",
    "train_test_split(data17,target17, test_size=0.2)"
   ]
  },
  {
   "cell_type": "markdown",
   "metadata": {},
   "source": [
    "Plot the \"mean\" picture of both numbers.\n",
    "Pixel [19] is nearly black for number 7 and white for number 1.\n",
    "Also pixel [61] is black for number 7 and grey for number 1."
   ]
  },
  {
   "cell_type": "code",
   "execution_count": 8,
   "metadata": {
    "collapsed": true
   },
   "outputs": [],
   "source": [
    "def mean_plot(number):\n",
    "    img = np.mean([images[j] for j in range(len(images)) if target[j]==number], axis = 0)\n",
    "    return img\n",
    "\n",
    "def median_plot(number):\n",
    "    img = np.median([images[j] for j in range(len(images)) if target[j]==number], axis = 0)\n",
    "    return img"
   ]
  },
  {
   "cell_type": "code",
   "execution_count": 9,
   "metadata": {
    "collapsed": false
   },
   "outputs": [
    {
     "data": {
      "text/plain": [
       "Text(0.5,1,'median')"
      ]
     },
     "execution_count": 9,
     "metadata": {},
     "output_type": "execute_result"
    },
    {
     "data": {
      "image/png": "[encoded data removed]",
      "text/plain": [
       "<matplotlib.figure.Figure at 0x7fcadd6aea90>"
      ]
     },
     "metadata": {},
     "output_type": "display_data"
    }
   ],
   "source": [
    "fig,ax=plt.subplots(1,2)\n",
    "plt.gray()\n",
    "ax[0].imshow(mean_plot(1))\n",
    "ax[0].set_title(\"mean\")\n",
    "ax[1].imshow(median_plot(1))\n",
    "ax[1].set_title(\"median\")"
   ]
  },
  {
   "cell_type": "code",
   "execution_count": 10,
   "metadata": {
    "collapsed": false,
    "scrolled": true
   },
   "outputs": [
    {
     "data": {
      "text/plain": [
       "Text(0.5,1,'median')"
      ]
     },
     "execution_count": 10,
     "metadata": {},
     "output_type": "execute_result"
    },
    {
     "data": {
      "image/png": "[encoded data removed]",
      "text/plain": [
       "<matplotlib.figure.Figure at 0x7fcadd5d1860>"
      ]
     },
     "metadata": {},
     "output_type": "display_data"
    }
   ],
   "source": [
    "fig,ax=plt.subplots(1,2)\n",
    "plt.gray()\n",
    "ax[0].imshow(mean_plot(7))\n",
    "ax[0].set_title(\"mean\")\n",
    "ax[1].imshow(median_plot(7))\n",
    "ax[1].set_title(\"median\")"
   ]
  },
  {
   "cell_type": "code",
   "execution_count": 11,
   "metadata": {
    "collapsed": false
   },
   "outputs": [
    {
     "name": "stdout",
     "output_type": "stream",
     "text": [
      "Max difference mean:  19\n",
      "Min difference mean:  0\n",
      "Max difference median:  19\n",
      "Min difference median:  0\n",
      "[[  0.    0.    3.    2.    4.    8.    3.    0. ]\n",
      " [  0.    0.    8.    4.    4.    5.5   3.    0. ]\n",
      " [  0.    0.    4.   16.    9.    5.5   1.    0. ]\n",
      " [  0.    0.    7.   11.    2.    9.    3.    0. ]\n",
      " [  0.    0.    4.    0.    0.    8.    4.    0. ]\n",
      " [  0.    0.    3.    0.    3.    3.    0.    0. ]\n",
      " [  0.    0.    3.    0.   10.    7.    0.    0. ]\n",
      " [  0.    0.    5.    2.   14.    9.    0.    0. ]]\n"
     ]
    }
   ],
   "source": [
    "print(\"Max difference mean: \",np.argmax(np.abs(mean_plot(7)-mean_plot(1))))\n",
    "print(\"Min difference mean: \",np.argmin(np.abs(mean_plot(7)-mean_plot(1))))\n",
    "print(\"Max difference median: \",np.argmax(np.abs(median_plot(7)-median_plot(1))))\n",
    "print(\"Min difference median: \",np.argmin(np.abs(median_plot(7)-median_plot(1))))\n",
    "print(np.abs(median_plot(7)-median_plot(1)))\n"
   ]
  },
  {
   "cell_type": "markdown",
   "metadata": {},
   "source": [
    "### Dimension Reduction"
   ]
  },
  {
   "cell_type": "code",
   "execution_count": 12,
   "metadata": {
    "collapsed": true
   },
   "outputs": [],
   "source": [
    "def reduced_dim(x):\n",
    "    res=np.empty([np.shape(x)[0],2])\n",
    "    for i in range(len(x)):\n",
    "        # Define the features here:\n",
    "        \n",
    "        res[i][0]=x[i][60]# Feature 1\n",
    "        res[i][1]=x[i][19]         # Feature 2\n",
    "        \n",
    "    return res"
   ]
  },
  {
   "cell_type": "code",
   "execution_count": 13,
   "metadata": {
    "collapsed": false
   },
   "outputs": [
    {
     "name": "stdout",
     "output_type": "stream",
     "text": [
      "(array([83, 24,  8, 16, 11, 19, 16, 23, 28, 60]), array([  0. ,   1.6,   3.2,   4.8,   6.4,   8. ,   9.6,  11.2,  12.8,\n",
      "        14.4,  16. ]))\n"
     ]
    },
    {
     "data": {
      "image/png": "[encoded data removed]",
      "text/plain": [
       "<matplotlib.figure.Figure at 0x7fcadd4db710>"
      ]
     },
     "metadata": {},
     "output_type": "display_data"
    },
    {
     "data": {
      "text/plain": [
       "<Container object of 10 artists>"
      ]
     },
     "execution_count": 13,
     "metadata": {},
     "output_type": "execute_result"
    },
    {
     "data": {
      "image/png": "[encoded data removed]",
      "text/plain": [
       "<matplotlib.figure.Figure at 0x7fcadd4986a0>"
      ]
     },
     "metadata": {},
     "output_type": "display_data"
    }
   ],
   "source": [
    "reduced_x=reduced_dim(X_train)\n",
    "print(np.histogram(reduced_dim(X_train)[:,0]))\n",
    "#plt.plot(np.histogram(reduced_dim(X_train)[:,0]))\n",
    "hist, bins = np.histogram(reduced_dim(X_train)[:,0])\n",
    "width = 0.7 * (bins[1] - bins[0])\n",
    "center = (bins[:-1] + bins[1:]) / 2\n",
    "plt.bar(center, hist, align='center', width=width)\n",
    "plt.show()\n",
    "hist, bins = np.histogram(reduced_dim(X_train)[:,1])\n",
    "width = 0.7 * (bins[1] - bins[0])\n",
    "center = (bins[:-1] + bins[1:]) / 2\n",
    "plt.bar(center, hist, align='center', width=width)"
   ]
  },
  {
   "cell_type": "code",
   "execution_count": 14,
   "metadata": {
    "collapsed": true
   },
   "outputs": [],
   "source": [
    "# To differentiate in the scatter plot between the two classes\n",
    "\n",
    "reduced1=[reduced_x[i] for i in range(len(reduced_x)) if target17[i]==1]\n",
    "reduced7=[reduced_x[i] for i in range(len(reduced_x)) if target17[i]==7]"
   ]
  },
  {
   "cell_type": "code",
   "execution_count": 15,
   "metadata": {
    "collapsed": false
   },
   "outputs": [
    {
     "data": {
      "text/plain": [
       "Text(0.5,1,'Dimension reduction - feature check')"
      ]
     },
     "execution_count": 15,
     "metadata": {},
     "output_type": "execute_result"
    },
    {
     "data": {
      "image/png": "[encoded data removed]",
      "text/plain": [
       "<matplotlib.figure.Figure at 0x7fcadad579e8>"
      ]
     },
     "metadata": {},
     "output_type": "display_data"
    }
   ],
   "source": [
    "x1=[reduced1[i][0]*10 for i in range(len(reduced1))]\n",
    "#x1=x1/np.max(x1)\n",
    "y1=[reduced1[i][1]*10 for i in range(len(reduced1))]\n",
    "#y1=y1/np.max(y1)\n",
    "x7=[reduced7[i][0]*10 for i in range(len(reduced7))]\n",
    "#x7=x7/np.max(x7)\n",
    "y7=[reduced7[i][1]*10 for i in range(len(reduced7))]\n",
    "#y7=y7/np.max(y7)\n",
    "plt.scatter(x1,y1,color='b',label='1')\n",
    "plt.scatter(x7,y7,color='g',label='7')\n",
    "\n",
    "legend = plt.legend(frameon = 1)\n",
    "frame = legend.get_frame()\n",
    "frame.set_color('grey')\n",
    "\n",
    "plt.xlabel(\"x-feature\")\n",
    "plt.ylabel('y-feature')\n",
    "plt.title('Dimension reduction - feature check')"
   ]
  },
  {
   "cell_type": "code",
   "execution_count": null,
   "metadata": {
    "collapsed": true
   },
   "outputs": [],
   "source": []
  },
  {
   "cell_type": "markdown",
   "metadata": {},
   "source": [
    "# 2. Nearest Mean"
   ]
  },
  {
   "cell_type": "code",
   "execution_count": 16,
   "metadata": {
    "collapsed": true
   },
   "outputs": [],
   "source": [
    "def nearest_mean(training_features, training_labels, test_features):\n",
    "    mean1=np.empty([2,1])\n",
    "    mean7=np.empty([2,1])\n",
    "    mean1=sum([training_features[i] for i in range(\\\n",
    "        len(training_features)) if training_labels[i]==1])\n",
    "    mean1=mean1/np.count_nonzero(training_labels==1)\n",
    "    mean7=sum([training_features[i] for i in range(\\\n",
    "        len(training_features)) if training_labels[i]==7])\n",
    "    mean7=mean7/np.count_nonzero(training_labels==7)\n",
    "    predicted_labels=np.empty([len(test_features),1])\n",
    "    for i in range(len(predicted_labels)):\n",
    "        dis1=np.linalg.norm(mean1-test_features[i])\n",
    "        dis2=np.linalg.norm(mean7-test_features[i])\n",
    "        if dis1 <= dis2:\n",
    "            predicted_labels[i]=1\n",
    "        else:\n",
    "            predicted_labels[i]=7\n",
    "    return predicted_labels"
   ]
  },
  {
   "cell_type": "code",
   "execution_count": 17,
   "metadata": {
    "collapsed": false
   },
   "outputs": [
    {
     "name": "stdout",
     "output_type": "stream",
     "text": [
      "Elements classified correctly:  71  (in Total:  73  elements.)\n"
     ]
    }
   ],
   "source": [
    "reduced_test=reduced_dim(X_test)\n",
    "predicted_labels=nearest_mean(reduced_x,y_train,reduced_test)\n",
    "counter=0\n",
    "for x,y in zip(predicted_labels,y_test):\n",
    "    if x==y:\n",
    "        counter+=1\n",
    "print(\"Elements classified correctly: \",counter,\" (in Total: \",len(y_test),\" elements.)\")"
   ]
  },
  {
   "cell_type": "code",
   "execution_count": 18,
   "metadata": {
    "collapsed": true
   },
   "outputs": [],
   "source": [
    "training_features=reduced_x\n",
    "training_labels=y_train\n",
    "\n",
    "mean1=np.empty([2,1])\n",
    "mean7=np.empty([2,1])\n",
    "mean1 = np.mean([training_features[j] for j in range(len\\\n",
    "        (training_features)) if training_labels[j]==1], axis = 0)\n",
    "\n",
    "mean7 = np.mean([training_features[j] for j in range(len\\\n",
    "        (training_features)) if training_labels[j]==7], axis = 0)\n",
    "\n",
    "\n",
    "#mean1=sum([training_features[i] for i in range(\\\n",
    "#        len(training_features)) if training_labels[i]==1])\n",
    "#mean1=mean1/np.count_nonzero(training_labels==1)\n",
    "#mean7=sum([training_features[i] for i in range(\\\n",
    "#        len(training_features)) if training_labels[i]==7])\n",
    "#mean7=mean7/np.count_nonzero(training_labels==7)\n",
    "   \n",
    "    \n",
    "a=0\n",
    "matrix=np.empty([200,200])\n",
    "for i in range(200):\n",
    "    for j in range(200):\n",
    "        i_=i/10\n",
    "        j_=j/10\n",
    "        dis1=np.linalg.norm(mean1-np.array([i_,j_]))\n",
    "        dis2=np.linalg.norm(mean7-np.array([i_,j_]))\n",
    "        if dis1>dis2:\n",
    "            a=0\n",
    "        else:\n",
    "            a=1\n",
    "        matrix[i,j]=a"
   ]
  },
  {
   "cell_type": "code",
   "execution_count": 19,
   "metadata": {
    "collapsed": false
   },
   "outputs": [
    {
     "data": {
      "text/plain": [
       "<matplotlib.legend.Legend at 0x7fcadd657780>"
      ]
     },
     "execution_count": 19,
     "metadata": {},
     "output_type": "execute_result"
    },
    {
     "data": {
      "image/png": "[encoded data removed]",
      "text/plain": [
       "<matplotlib.figure.Figure at 0x7fcadd463588>"
      ]
     },
     "metadata": {},
     "output_type": "display_data"
    }
   ],
   "source": [
    "plt.matshow(matrix);\n",
    "plt.plot(mean1[0]*10,mean1[1]*10,'x',label=\"Mean 1\")\n",
    "plt.plot(mean7[0]*10,mean7[1]*10,'x',label=\"Mean 7\")\n",
    "\n",
    "plt.xlabel(\"Feature x\")\n",
    "plt.ylabel(\"Feature y\")\n",
    "plt.scatter(x1,y1,color='b',label='1')\n",
    "plt.scatter(x7,y7,color='g',label='7')\n",
    "plt.legend(loc=6)\n"
   ]
  },
  {
   "cell_type": "markdown",
   "metadata": {
    "collapsed": true
   },
   "source": [
    "## QDA"
   ]
  },
  {
   "cell_type": "code",
   "execution_count": 20,
   "metadata": {
    "collapsed": true
   },
   "outputs": [],
   "source": [
    "def fit_qda(training_features, training_labels):\n",
    "    \"\"\"\n",
    "    Fits D dimensional Gaussian to the given training data.\n",
    "    \n",
    "    TRAINING LABELS: 0, 1\n",
    "    \n",
    "    Input N x D vector of training features, N x 1 vector of corresp. instances\n",
    "    Returns 2 x D matrix of means of the 2 classes, 2 x D x D array of the covariances, 2 x 1 vector of the priors p\"\"\"\n",
    "    \n",
    "    def vec_generator(matrix):\n",
    "        \"\"\" Returns one vector at a time\"\"\"\n",
    "        for i in range(len(matrix[:,0])):\n",
    "            yield matrix[i,:]\n",
    "    features_class_0 = training_features[np.where(training_labels == 0)]\n",
    "    features_class_1 = training_features[np.where(training_labels == 1)]\n",
    "    mu = np.array([np.mean(features_class_0,axis=0),np.mean(features_class_1,axis=0)])\n",
    "    \n",
    "    #covmat = np.array([np.mean(np.outer((features_class_0-mu[0,:]),(features_class_0-mu[0,:])).T,axis=0)])\n",
    "    covmat = np.array([np.mean([np.outer(i,j) for i,j in zip(vec_generator(features_class_0-mu[0,:]), vec_generator(features_class_0-mu[0,:]))],axis=0) \\\n",
    "                               ,np.mean([np.outer(i,j) for i,j in zip(vec_generator(features_class_0-mu[0,:]), vec_generator(features_class_0-mu[0,:]))],axis=0)] )\n",
    "    \"\"\"print((features_class_0-mu[0,:]).shape)\n",
    "    print(np.outer(vec_generator(features_class_0-mu[0,:]),vec_generator(features_class_0-mu[0,:])).shape)\n",
    "    print(vec_generator(mu))\"\"\"\n",
    "    #print(covmat)\n",
    "    p = np.array([len(features_class_0)/len(training_features), 1 - len(features_class_0)/len(training_features)])\n",
    "    return mu, covmat, p\n",
    "\n",
    "\n",
    "def predict_qda(mu, covmat, p, test_features):\n",
    "    \"\"\"\n",
    "    Predicts test instances of the given test_features given the parameter of the multivariat, D dimensional Gaussian that describes\n",
    "    the feature distribution\n",
    "    \n",
    "    Input 2 x D matrix of means of the 2 classes, 2 x D x D array of the covariances, 2 x 1 vector of the priors p, M x D vector of test features\n",
    "    \n",
    "    Returns M x 1 vector of class labels (0 and 1) \"\"\"\n",
    "    \n",
    "    b = np.array(np.log(np.linalg.det(covmat)/p**2)) # precompute constant factor of log-likelihood; for both classes simultaneously (axis 0)\n",
    "    \n",
    "    \n",
    "    inv_covmat = np.linalg.inv(covmat) # inverse of covmat; for both classes simultaneously (axis 0)\n",
    "    \n",
    "    likelihood_class_0 = [np.inner(np.array(i-mu[0,:]),inv_covmat[0,:,:].dot(np.array(i-mu[0,:])))+b[0] for i in test_features]\n",
    "    likelihood_class_1 = [np.inner(np.array(i-mu[1,:]),inv_covmat[1,:,:].dot(np.array(i-mu[1,:])))+b[1] for i in test_features]\n",
    "    \"\"\"print(np.array([np.inner( (i-mu[0,:]) , (inv_covmat[0,:,:].dot(i-mu[0,:] ) ) ) for i in test_features[0,:]]))\n",
    "    print(np.inner([1,2],inv_covmat[0,:,:].dot([1,2])))\n",
    "    print([i for i in test_features[0,:]])\"\"\"\n",
    "    \n",
    "    test_instances = np.argmin(np.array([likelihood_class_0,likelihood_class_1]),axis=0) # returns indices 0 or 1 which are in this \\\n",
    "                                                                                        # case equivalent with the classes\n",
    "    return test_instances"
   ]
  },
  {
   "cell_type": "code",
   "execution_count": 21,
   "metadata": {
    "collapsed": false
   },
   "outputs": [
    {
     "name": "stdout",
     "output_type": "stream",
     "text": [
      "Training data: 277 out of 288 elements correct\n",
      "Test data: 71 out of 73 elements correct\n"
     ]
    }
   ],
   "source": [
    "### recycle filtered numbers; map labels 1 -> 0 , 7 -> 1\n",
    "X_train, X_test, y_train, y_test = \\\n",
    "train_test_split(data17,target17, test_size=0.2)\n",
    "\n",
    "y_train[np.where(y_train==1)],y_train[np.where(y_train==7)] = 0, 1\n",
    "y_test[np.where(y_test==1)],y_test[np.where(y_test==7)] = 0, 1\n",
    "reduced_x_train =reduced_dim(X_train)\n",
    "reduced_x_test =reduced_dim(X_test)\n",
    "[mu, covmat, p] = fit_qda(reduced_x_train,y_train)\n",
    " \n",
    "print(\"Training data: %d out of %d elements correct\" % (np.sum(predict_qda(mu,covmat,p,reduced_x_train)==y_train),len(y_train)))\n",
    "print(\"Test data: %d out of %d elements correct\" % (np.sum(predict_qda(mu,covmat,p,reduced_x_test)==y_test),len(y_test)))"
   ]
  },
  {
   "cell_type": "markdown",
   "metadata": {},
   "source": [
    "## Visualization"
   ]
  },
  {
   "cell_type": "code",
   "execution_count": 22,
   "metadata": {
    "collapsed": false
   },
   "outputs": [
    {
     "data": {
      "image/png": "[encoded data removed]",
      "text/plain": [
       "<matplotlib.figure.Figure at 0x7fcadace7908>"
      ]
     },
     "metadata": {},
     "output_type": "display_data"
    }
   ],
   "source": [
    "### adjust plots\n",
    "\n",
    "transx = 2\n",
    "transy = 2\n",
    "\n",
    "\n",
    "\n",
    "x_train_class0 = reduced_x_train[np.where(y_train==0)] #### seperate classes\n",
    "x_train_class1 = reduced_x_train[np.where(y_train==1)]\n",
    "\n",
    "\n",
    "grid = np.zeros((20,20)) ## background\n",
    "plt.imshow(grid,cmap=\"Blues\",aspect=1)\n",
    "\n",
    "\n",
    "plt.scatter(x_train_class0[:,0]+transx,x_train_class0[:,1]+transy, ) ## training data\n",
    "plt.scatter(x_train_class1[:,0]+transx,x_train_class1[:,1]+transy)\n",
    "\n",
    "plt.plot(mu[0,0]+transx,mu[0,1]+transy,'x') ## means\n",
    "plt.plot(mu[1,0]+transx,mu[1,1]+transy,'x')\n",
    "\n",
    "\n",
    "\n",
    "#### bivariat gaussians\n",
    "x = np.linspace(0,20,100)\n",
    "y = np.linspace(0,20,100)\n",
    "x,y = np.meshgrid(x,y)\n",
    "pos = np.empty(x.shape + (2,))\n",
    "pos[:, :, 0] = x\n",
    "pos[:, :, 1] = y\n",
    "from scipy.stats import multivariate_normal\n",
    "var = multivariate_normal(mean=mu[0]+[transx,transy], cov=covmat[0])\n",
    "plt.contour(x,y,var.pdf(pos))\n",
    "var = multivariate_normal(mean=mu[1]+[transx,transy], cov=covmat[1])\n",
    "plt.contour(x,y,var.pdf(pos))\n",
    "\n",
    "\n",
    "\n",
    "######## eigenvalue /vector decomposition\n",
    "\n",
    "val, vec = np.linalg.eig(covmat[0])\n",
    "for i,j in zip(val,vec):\n",
    "    plt.quiver(mu[0,0]+transx,mu[0,1]+transy,np.sqrt(i)*j[0],np.sqrt(i)*j[1])\n",
    "    \n",
    "    \n",
    "val, vec = np.linalg.eig(covmat[1])\n",
    "for i,j in zip(val,vec):\n",
    "    plt.quiver(mu[1,0]+transx,mu[1,1]+transy,np.sqrt(i)*j[0],np.sqrt(i)*j[1])"
   ]
  },
  {
   "cell_type": "code",
   "execution_count": 26,
   "metadata": {
    "collapsed": false
   },
   "outputs": [],
   "source": [
    "data_red=reduced_dim(data17)"
   ]
  },
  {
   "cell_type": "markdown",
   "metadata": {},
   "source": [
    "## Performance evaluation"
   ]
  },
  {
   "cell_type": "code",
   "execution_count": 49,
   "metadata": {
    "collapsed": false
   },
   "outputs": [
    {
     "name": "stdout",
     "output_type": "stream",
     "text": [
      "Test data: 36 out of 37 elements correct\n",
      "Test data: 30 out of 36 elements correct\n",
      "Test data: 34 out of 36 elements correct\n",
      "Test data: 36 out of 36 elements correct\n",
      "Test data: 36 out of 36 elements correct\n",
      "Test data: 36 out of 36 elements correct\n",
      "Test data: 36 out of 36 elements correct\n",
      "Test data: 35 out of 36 elements correct\n",
      "Test data: 32 out of 36 elements correct\n",
      "Test data: 36 out of 36 elements correct\n",
      "Final Error rate:  0.961186186186 +- 0.0544488936928\n"
     ]
    }
   ],
   "source": [
    "from sklearn.model_selection import KFold\n",
    "kf=KFold(n_splits=10)\n",
    "score=[]\n",
    "for train_index, test_index in kf.split(data_red):\n",
    "    #print(\"TRAIN:\", train_index, \"TEST:\", test_index)\n",
    "    \n",
    "    X_train, X_test = data_red[train_index], data_red[test_index]\n",
    "    y_train, y_test = target17[train_index], target17[test_index]\n",
    "    \n",
    "    y_train[np.where(y_train==1)],y_train[np.where(y_train==7)] = 0, 1\n",
    "    y_test[np.where(y_test==1)],y_test[np.where(y_test==7)] = 0, 1\n",
    "    \n",
    "    mu, covmat, p = fit_qda(X_train,y_train)\n",
    "   \n",
    "    #print(\"Training data: %d out of %d elements correct\" % (np.sum(predict_qda(mu,covmat,p,X_train)==y_train),len(y_train)))\n",
    "    correct=np.sum(predict_qda(mu,covmat,p,X_test)==y_test)\n",
    "    print(\"Test data: %d out of %d elements correct\" % (correct,len(y_test)))\n",
    "    score.append(correct/len(y_test))\n",
    "print('Final Error rate: ',np.mean(score),'+-',np.std(score))"
   ]
  },
  {
   "cell_type": "markdown",
   "metadata": {},
   "source": [
    "# LDA"
   ]
  },
  {
   "cell_type": "code",
   "execution_count": null,
   "metadata": {
    "collapsed": true
   },
   "outputs": [],
   "source": []
  },
  {
   "cell_type": "code",
   "execution_count": null,
   "metadata": {
    "collapsed": true
   },
   "outputs": [],
   "source": [
    "a=np.array([2,3,4])\n",
    "b="
   ]
  }
 ],
 "metadata": {
  "kernelspec": {
   "display_name": "Python 3",
   "language": "python",
   "name": "python3"
  },
  "language_info": {
   "codemirror_mode": {
    "name": "ipython",
    "version": 3
   },
   "file_extension": ".py",
   "mimetype": "text/x-python",
   "name": "python",
   "nbconvert_exporter": "python",
   "pygments_lexer": "ipython3",
   "version": "3.6.2"
  }
 },
 "nbformat": 4,
 "nbformat_minor": 2
}
